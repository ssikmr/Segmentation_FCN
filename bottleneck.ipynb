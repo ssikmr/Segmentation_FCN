{
 "cells": [
  {
   "cell_type": "code",
   "execution_count": 3,
   "metadata": {},
   "outputs": [],
   "source": [
    "import tensorflow as tf\n",
    "import matplotlib.pyplot as plt\n",
    "import pandas as pd\n",
    "import numpy as np"
   ]
  },
  {
   "cell_type": "code",
   "execution_count": 4,
   "metadata": {},
   "outputs": [],
   "source": [
    "X = np.load('combined.npy') "
   ]
  },
  {
   "cell_type": "code",
   "execution_count": 5,
   "metadata": {},
   "outputs": [],
   "source": [
    "X = (X.astype(np.float32)-127)/127.0"
   ]
  },
  {
   "cell_type": "code",
   "execution_count": 6,
   "metadata": {},
   "outputs": [],
   "source": [
    "from tensorflow.core.framework import graph_pb2"
   ]
  },
  {
   "cell_type": "code",
   "execution_count": 7,
   "metadata": {},
   "outputs": [],
   "source": [
    "graph_def = graph_pb2.GraphDef()"
   ]
  },
  {
   "cell_type": "code",
   "execution_count": 8,
   "metadata": {},
   "outputs": [],
   "source": [
    "def load_graph(path_protobuf):\n",
    "    with open(path_protobuf, \"rb\") as f:\n",
    "        graph_def.ParseFromString(f.read())\n",
    "        with tf.Graph().as_default() as graph:\n",
    "            # Createa new placeholder\n",
    "            input_big = tf.placeholder(dtype=tf.float32, shape=(None, 64,84,1), name='input_image_big')\n",
    "            # Import the graph and replace the reshape node with new placeholder.\n",
    "            tf.import_graph_def(graph_def, name=\"\", input_map={\"reshaped_image\": input_big})\n",
    "            return graph"
   ]
  },
  {
   "cell_type": "code",
   "execution_count": 9,
   "metadata": {},
   "outputs": [],
   "source": [
    "frozen_graph = load_graph('./checkpoints/frozen_graph.pb')"
   ]
  },
  {
   "cell_type": "code",
   "execution_count": 10,
   "metadata": {},
   "outputs": [],
   "source": [
    "## Uncomment to view all names of all nodes.\n",
    "#for op in frozen_graph.get_operations():\n",
    "#    print(op.name)"
   ]
  },
  {
   "cell_type": "code",
   "execution_count": 11,
   "metadata": {},
   "outputs": [],
   "source": [
    "def get_next_batch(X,batch_sz):\n",
    "    for start_offset in range(0, len(X), batch_sz):\n",
    "        end_offfset = min(start_offset+batch_sz, len(X))\n",
    "        yield X[start_offset:end_offfset]"
   ]
  },
  {
   "cell_type": "code",
   "execution_count": 12,
   "metadata": {},
   "outputs": [],
   "source": [
    "bottleneck_features = []\n",
    "with tf.Session(graph=frozen_graph) as sess:\n",
    "    # Get placeholder and output tensors of last pooling layer.\n",
    "    # Tensor names are derived from the operation that produced them\n",
    "    # We named layers while building the graph, NOT tensors.\n",
    "    input_ph = tf.get_default_graph().get_tensor_by_name('input_image_big:0')\n",
    "    bottleneck_tensor = tf.get_default_graph().get_tensor_by_name('poool2/MaxPool:0')\n",
    "    \n",
    "    # Loop over the whole dataset\n",
    "    for X_batch in get_next_batch(X, 128):\n",
    "        # Add empty dimension to match the dimesnion of the placeholder.\n",
    "        X_batch = np.expand_dims(X_batch,3)\n",
    "        \n",
    "        bottleneck_batch = sess.run(bottleneck_tensor,feed_dict={input_ph:X_batch}) \n",
    "        bottleneck_features.extend(bottleneck_batch)"
   ]
  },
  {
   "cell_type": "code",
   "execution_count": 13,
   "metadata": {},
   "outputs": [],
   "source": [
    "np.save('bottleneck.npy',bottleneck_features)"
   ]
  },
  {
   "cell_type": "code",
   "execution_count": null,
   "metadata": {},
   "outputs": [],
   "source": []
  }
 ],
 "metadata": {
  "kernelspec": {
   "display_name": "Python 3",
   "language": "python",
   "name": "python3"
  },
  "language_info": {
   "codemirror_mode": {
    "name": "ipython",
    "version": 3
   },
   "file_extension": ".py",
   "mimetype": "text/x-python",
   "name": "python",
   "nbconvert_exporter": "python",
   "pygments_lexer": "ipython3",
   "version": "3.5.5"
  }
 },
 "nbformat": 4,
 "nbformat_minor": 2
}
