{
 "cells": [
  {
   "cell_type": "code",
   "execution_count": 1,
   "metadata": {},
   "outputs": [
    {
     "name": "stderr",
     "output_type": "stream",
     "text": [
      "C:\\Users\\shashi.kumar11\\AppData\\Local\\Continuum\\anaconda3\\envs\\CNN_practice\\lib\\site-packages\\h5py\\__init__.py:36: FutureWarning: Conversion of the second argument of issubdtype from `float` to `np.floating` is deprecated. In future, it will be treated as `np.float64 == np.dtype(float).type`.\n",
      "  from ._conv import register_converters as _register_converters\n"
     ]
    }
   ],
   "source": [
    "%matplotlib inline\n",
    "\n",
    "import numpy as np\n",
    "import matplotlib.pyplot as plt\n",
    "import pandas as pd\n",
    "import tensorflow as tf"
   ]
  },
  {
   "cell_type": "code",
   "execution_count": 2,
   "metadata": {},
   "outputs": [
    {
     "name": "stderr",
     "output_type": "stream",
     "text": [
      "C:\\Users\\shashi.kumar11\\AppData\\Local\\Continuum\\anaconda3\\envs\\CNN_practice\\lib\\site-packages\\ipykernel_launcher.py:1: FutureWarning: Method .as_matrix will be removed in a future version. Use .values instead.\n",
      "  \"\"\"Entry point for launching an IPython kernel.\n"
     ]
    }
   ],
   "source": [
    "dataframe = pd.read_csv('train.csv').as_matrix()"
   ]
  },
  {
   "cell_type": "code",
   "execution_count": 3,
   "metadata": {},
   "outputs": [
    {
     "data": {
      "text/plain": [
       "(42000, 785)"
      ]
     },
     "execution_count": 3,
     "metadata": {},
     "output_type": "execute_result"
    }
   ],
   "source": [
    "dataframe.shape"
   ]
  },
  {
   "cell_type": "code",
   "execution_count": 4,
   "metadata": {},
   "outputs": [],
   "source": [
    "y, X = dataframe[:,0], dataframe[:, 1:]\n",
    "y = y.reshape([-1,1])\n",
    "\n",
    "indices = list(range(len(X)))\n",
    "np.random.shuffle(indices)\n",
    "\n",
    "X = X[indices].astype(np.float32)\n",
    "y = y[indices].astype(np.float32)"
   ]
  },
  {
   "cell_type": "code",
   "execution_count": 5,
   "metadata": {},
   "outputs": [],
   "source": [
    "# Split it into train and validation\n",
    "n_train = int(0.7 * len(y))\n",
    "\n",
    "y_train, X_train, y_test, X_test = y[: n_train], X[: n_train, :], y[n_train:], X[n_train:, :]\n",
    "\n",
    "X_train -= 127.0\n",
    "X_train /= 127.0\n",
    "\n",
    "X_test  -= 127.0\n",
    "X_test /= 127.0"
   ]
  },
  {
   "cell_type": "code",
   "execution_count": 6,
   "metadata": {},
   "outputs": [],
   "source": [
    "def get_next_batch(batch_size, X, y):\n",
    "    for i in range(0,len(y),batch_size):\n",
    "        start = i\n",
    "        end = min(len(y), i+batch_size)\n",
    "        yield X[start:end, :] , y[start:end]"
   ]
  },
  {
   "cell_type": "code",
   "execution_count": 7,
   "metadata": {},
   "outputs": [],
   "source": [
    "def nn():\n",
    "    img_placeholder = tf.placeholder(dtype=tf.float32, shape=(None, X_train.shape[1]), name='input_image')\n",
    "    labels = tf.placeholder(dtype=tf.int32, shape=(None, 1), name='labels')\n",
    "    learning_rate_ph = tf.placeholder(dtype=tf.float32, name='learning_rate')\n",
    "    \n",
    "    input_2d = tf.reshape(img_placeholder,[-1,28,28,1], name='reshaped_image')\n",
    "    l1_1 = tf.layers.conv2d(input_2d,8,5,1,activation=tf.nn.relu, name='conv1')\n",
    "    l1_2 = tf.layers.max_pooling2d(l1_1,2,2,name='pool1')\n",
    "    l1_3 = tf.layers.conv2d(l1_2,8,3,1,activation=tf.nn.relu,name='conv2')\n",
    "    l1_4 = tf.layers.max_pooling2d(l1_3,2,2,name='poool2')\n",
    "    l1_5 = tf.layers.flatten(l1_4, name='flatten')\n",
    "    l2   = tf.layers.dense(l1_5, 32, activation=tf.nn.relu,name='dense32')\n",
    "    out  = tf.layers.dense(l2,10,name='dense10')\n",
    "    predictions = tf.identity(out, name='predictions')\n",
    "    \n",
    "    # Define the cost\n",
    "    cost = tf.reduce_mean(tf.nn.softmax_cross_entropy_with_logits(logits=out, labels=tf.one_hot(labels,depth=10)), name='cost')\n",
    "    \n",
    "    # Apply an optimizer\n",
    "    optimizer = tf.train.AdamOptimizer(learning_rate=learning_rate_ph).minimize(cost)\n",
    "    \n",
    "    return img_placeholder, labels, learning_rate_ph, cost, optimizer, predictions"
   ]
  },
  {
   "cell_type": "code",
   "execution_count": 8,
   "metadata": {},
   "outputs": [
    {
     "name": "stdout",
     "output_type": "stream",
     "text": [
      "WARNING:tensorflow:From <ipython-input-7-3cd391eb76f2>:17: softmax_cross_entropy_with_logits (from tensorflow.python.ops.nn_ops) is deprecated and will be removed in a future version.\n",
      "Instructions for updating:\n",
      "\n",
      "Future major versions of TensorFlow will allow gradients to flow\n",
      "into the labels input on backprop by default.\n",
      "\n",
      "See @{tf.nn.softmax_cross_entropy_with_logits_v2}.\n",
      "\n"
     ]
    }
   ],
   "source": [
    "img_placeholder, labels, learning_rate_ph, cost, optimizer, output = nn()"
   ]
  },
  {
   "cell_type": "code",
   "execution_count": 9,
   "metadata": {},
   "outputs": [],
   "source": [
    "def eval_cost(cost_op, X, y, batch_sz):\n",
    "    total_cost = 0\n",
    "    nb_batches = 0\n",
    "    for batch_X,batch_y in get_next_batch(batch_size,X,y):\n",
    "        feed_dict={img_placeholder: batch_X, labels: batch_y}\n",
    "        total_cost += cost.eval(feed_dict=feed_dict)\n",
    "        nb_batches += 1\n",
    "    return total_cost / nb_batches\n",
    "\n",
    "def eval_accuracy(output_op, X, y, batch_sz):\n",
    "    nb_batches = 0\n",
    "    total_acc = 0\n",
    "    for batch_X, batch_y in get_next_batch(batch_sz,X,y):\n",
    "        feed_dict={img_placeholder: batch_X, labels: batch_y}\n",
    "        y_predicted = np.argmax(output.eval(feed_dict=feed_dict),1)\n",
    "        total_acc += accuracy_score(batch_y,y_predicted)\n",
    "        nb_batches += 1\n",
    "    return 100*total_acc/nb_batches"
   ]
  },
  {
   "cell_type": "code",
   "execution_count": 11,
   "metadata": {
    "scrolled": true
   },
   "outputs": [
    {
     "name": "stderr",
     "output_type": "stream",
     "text": [
      "\n",
      "  0%|                                                                                           | 0/10 [00:00<?, ?it/s]\n",
      " 10%|████████▎                                                                          | 1/10 [00:08<01:18,  8.71s/it]\n",
      " 20%|████████████████▌                                                                  | 2/10 [00:17<01:10,  8.85s/it]\n",
      " 30%|████████████████████████▉                                                          | 3/10 [00:27<01:04,  9.20s/it]\n",
      " 40%|█████████████████████████████████▏                                                 | 4/10 [00:36<00:55,  9.19s/it]\n",
      " 50%|█████████████████████████████████████████▌                                         | 5/10 [00:57<00:57, 11.40s/it]\n",
      " 60%|█████████████████████████████████████████████████▊                                 | 6/10 [01:06<00:44, 11.05s/it]\n",
      " 70%|██████████████████████████████████████████████████████████                         | 7/10 [01:15<00:32, 10.81s/it]\n",
      " 80%|██████████████████████████████████████████████████████████████████▍                | 8/10 [01:25<00:21, 10.68s/it]\n",
      " 90%|██████████████████████████████████████████████████████████████████████████▋        | 9/10 [01:34<00:10, 10.52s/it]\n",
      "100%|██████████████████████████████████████████████████████████████████████████████████| 10/10 [01:55<00:00, 11.53s/it]\n"
     ]
    },
    {
     "name": "stdout",
     "output_type": "stream",
     "text": [
      "Optimization Finished!\n"
     ]
    }
   ],
   "source": [
    "from sklearn.metrics import accuracy_score\n",
    "from tqdm import tqdm\n",
    "\n",
    "epochs = 10  ## Changed from 75\n",
    "batch_size = 512\n",
    "learning_rate = 0.001\n",
    "batches_per_epoch = int(X_train.shape[0]/batch_size)\n",
    "n_train = int(len(y_train)*0.8)\n",
    "\n",
    "\n",
    "\n",
    "# Launch the graph\n",
    "with tf.Session() as sess:\n",
    "    summary_writer = tf.summary.FileWriter('./',sess.graph)\n",
    "    \n",
    "    sess.run(tf.global_variables_initializer())\n",
    "    \n",
    "    for epoch in tqdm(range(epochs)):\n",
    "        # Shuffle data for cross validation\n",
    "        indices = np.array(range(len(y_train)))\n",
    "        np.random.shuffle(indices)\n",
    "        \n",
    "        train_indices = indices[: n_train]\n",
    "        val_indices = indices[n_train:]\n",
    "        \n",
    "\n",
    "        \n",
    "        y_train_fold, X_train_fold, y_val_fold, X_val_fold = y_train[train_indices], X_train[train_indices, :], \\\n",
    "        y_train[val_indices], X_train[val_indices, :]\n",
    "        \n",
    "        # Loop over all training batches\n",
    "        for x, y in get_next_batch(batch_size, X_train_fold, y_train_fold):\n",
    "            sess.run(optimizer, \n",
    "                     feed_dict={img_placeholder:x, labels:y, learning_rate_ph:learning_rate})\n",
    "        \n",
    "        if (epoch+1) % 5 == 0:\n",
    "            training_cost = eval_cost(cost, X_train_fold, y_train_fold, batch_size)\n",
    "            training_acc  = eval_accuracy(output, X_train_fold, y_train_fold, batch_size)\n",
    "            valid_acc  = eval_accuracy(output, X_val_fold, y_val_fold, batch_size)\n",
    "            test_acc  = eval_accuracy(output, X_test, y_test, batch_size)\n",
    "            #print(training_cost, training_acc, valid_acc, test_acc)\n",
    "            \n",
    "            summary = tf.Summary()\n",
    "            summary.value.add(tag=\"Train Cost\", simple_value=training_cost)\n",
    "            summary.value.add(tag=\"Train Accuracy\", simple_value=training_acc)\n",
    "            summary.value.add(tag=\"Validation Accuracy\", simple_value=valid_acc)\n",
    "            summary.value.add(tag=\"Test Accuracy\", simple_value=test_acc)\n",
    "            summary_writer.add_summary(summary,epoch+1)\n",
    "            summary_writer.flush()\n",
    "\n",
    "    \n",
    "    print(\"Optimization Finished!\")\n",
    "    summary_writer.close()\n",
    "    # Save the graph structure only.\n",
    "    # Need to save weights in a checkpoint file separately.\n",
    "    # The graph structure is saved twice, once as a text file \n",
    "    # with extension '.pbtxt' and then as a binary file with \n",
    "    # extension '.pb'. This is done for demonstration only.\n",
    "    tf.train.write_graph(\n",
    "    tf.get_default_graph().as_graph_def(),\n",
    "    './checkpoints/',\n",
    "    'mnist.pbtxt',\n",
    "    as_text=True)\n",
    "    \n",
    "    tf.train.write_graph(\n",
    "    tf.get_default_graph().as_graph_def(),\n",
    "    './checkpoints/',\n",
    "    'mnist.pb',\n",
    "    as_text=False)\n",
    "    \n",
    "    saver = tf.train.Saver()\n",
    "    saver.save(sess,'./checkpoints/mnist.ckpt',epoch+1)"
   ]
  },
  {
   "cell_type": "code",
   "execution_count": null,
   "metadata": {},
   "outputs": [],
   "source": []
  }
 ],
 "metadata": {
  "kernelspec": {
   "display_name": "Python 3",
   "language": "python",
   "name": "python3"
  },
  "language_info": {
   "codemirror_mode": {
    "name": "ipython",
    "version": 3
   },
   "file_extension": ".py",
   "mimetype": "text/x-python",
   "name": "python",
   "nbconvert_exporter": "python",
   "pygments_lexer": "ipython3",
   "version": "3.5.5"
  }
 },
 "nbformat": 4,
 "nbformat_minor": 2
}
